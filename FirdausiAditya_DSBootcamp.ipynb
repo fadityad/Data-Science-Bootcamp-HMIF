{
 "cells": [
  {
   "cell_type": "code",
   "execution_count": 37,
   "metadata": {},
   "outputs": [
    {
     "name": "stdout",
     "output_type": "stream",
     "text": [
      "Index(['id', 'rank_team1', 'total_points_team1', 'rank_team2',\n",
      "       'total_points_team2', 'is_team1_won'],\n",
      "      dtype='object')\n"
     ]
    }
   ],
   "source": [
    "import pandas as pd\n",
    "\n",
    "test_data = pd.read_csv('test.csv')\n",
    "train_data = pd.read_csv('train.csv')\n",
    "\n",
    "print(train_data.columns)"
   ]
  },
  {
   "cell_type": "code",
   "execution_count": 39,
   "metadata": {},
   "outputs": [
    {
     "data": {
      "text/html": [
       "<div>\n",
       "<style scoped>\n",
       "    .dataframe tbody tr th:only-of-type {\n",
       "        vertical-align: middle;\n",
       "    }\n",
       "\n",
       "    .dataframe tbody tr th {\n",
       "        vertical-align: top;\n",
       "    }\n",
       "\n",
       "    .dataframe thead th {\n",
       "        text-align: right;\n",
       "    }\n",
       "</style>\n",
       "<table border=\"1\" class=\"dataframe\">\n",
       "  <thead>\n",
       "    <tr style=\"text-align: right;\">\n",
       "      <th></th>\n",
       "      <th>rank_team1</th>\n",
       "      <th>total_points_team1</th>\n",
       "      <th>rank_team2</th>\n",
       "      <th>total_points_team2</th>\n",
       "    </tr>\n",
       "  </thead>\n",
       "  <tbody>\n",
       "    <tr>\n",
       "      <th>count</th>\n",
       "      <td>11087.000000</td>\n",
       "      <td>11087.000000</td>\n",
       "      <td>11087.000000</td>\n",
       "      <td>11087.000000</td>\n",
       "    </tr>\n",
       "    <tr>\n",
       "      <th>mean</th>\n",
       "      <td>75.337242</td>\n",
       "      <td>155.472106</td>\n",
       "      <td>78.099305</td>\n",
       "      <td>147.358674</td>\n",
       "    </tr>\n",
       "    <tr>\n",
       "      <th>std</th>\n",
       "      <td>50.912944</td>\n",
       "      <td>303.895419</td>\n",
       "      <td>51.868420</td>\n",
       "      <td>291.028305</td>\n",
       "    </tr>\n",
       "    <tr>\n",
       "      <th>min</th>\n",
       "      <td>1.000000</td>\n",
       "      <td>0.000000</td>\n",
       "      <td>1.000000</td>\n",
       "      <td>0.000000</td>\n",
       "    </tr>\n",
       "    <tr>\n",
       "      <th>25%</th>\n",
       "      <td>32.000000</td>\n",
       "      <td>0.000000</td>\n",
       "      <td>35.000000</td>\n",
       "      <td>0.000000</td>\n",
       "    </tr>\n",
       "    <tr>\n",
       "      <th>50%</th>\n",
       "      <td>69.000000</td>\n",
       "      <td>0.000000</td>\n",
       "      <td>71.000000</td>\n",
       "      <td>0.000000</td>\n",
       "    </tr>\n",
       "    <tr>\n",
       "      <th>75%</th>\n",
       "      <td>111.000000</td>\n",
       "      <td>185.920000</td>\n",
       "      <td>115.000000</td>\n",
       "      <td>167.660000</td>\n",
       "    </tr>\n",
       "    <tr>\n",
       "      <th>max</th>\n",
       "      <td>208.000000</td>\n",
       "      <td>1775.030000</td>\n",
       "      <td>209.000000</td>\n",
       "      <td>1765.050000</td>\n",
       "    </tr>\n",
       "  </tbody>\n",
       "</table>\n",
       "</div>"
      ],
      "text/plain": [
       "         rank_team1  total_points_team1    rank_team2  total_points_team2\n",
       "count  11087.000000        11087.000000  11087.000000        11087.000000\n",
       "mean      75.337242          155.472106     78.099305          147.358674\n",
       "std       50.912944          303.895419     51.868420          291.028305\n",
       "min        1.000000            0.000000      1.000000            0.000000\n",
       "25%       32.000000            0.000000     35.000000            0.000000\n",
       "50%       69.000000            0.000000     71.000000            0.000000\n",
       "75%      111.000000          185.920000    115.000000          167.660000\n",
       "max      208.000000         1775.030000    209.000000         1765.050000"
      ]
     },
     "execution_count": 39,
     "metadata": {},
     "output_type": "execute_result"
    }
   ],
   "source": [
    "y = train_data.is_team1_won\n",
    "train_features = ['rank_team1', 'total_points_team1', 'rank_team2',\n",
    "       'total_points_team2']\n",
    "X = train_data[train_features]\n",
    "test_features = ['rank_team1', 'total_points_team1', 'rank_team2',\n",
    "       'total_points_team2']\n",
    "A = test_data[test_features]\n",
    "X.describe()"
   ]
  },
  {
   "cell_type": "code",
   "execution_count": 18,
   "metadata": {
    "scrolled": true
   },
   "outputs": [
    {
     "data": {
      "text/html": [
       "<div>\n",
       "<style scoped>\n",
       "    .dataframe tbody tr th:only-of-type {\n",
       "        vertical-align: middle;\n",
       "    }\n",
       "\n",
       "    .dataframe tbody tr th {\n",
       "        vertical-align: top;\n",
       "    }\n",
       "\n",
       "    .dataframe thead th {\n",
       "        text-align: right;\n",
       "    }\n",
       "</style>\n",
       "<table border=\"1\" class=\"dataframe\">\n",
       "  <thead>\n",
       "    <tr style=\"text-align: right;\">\n",
       "      <th></th>\n",
       "      <th>rank_team1</th>\n",
       "      <th>total_points_team1</th>\n",
       "      <th>rank_team2</th>\n",
       "      <th>total_points_team2</th>\n",
       "    </tr>\n",
       "  </thead>\n",
       "  <tbody>\n",
       "    <tr>\n",
       "      <th>0</th>\n",
       "      <td>38.0</td>\n",
       "      <td>0.00</td>\n",
       "      <td>30.0</td>\n",
       "      <td>0.00</td>\n",
       "    </tr>\n",
       "    <tr>\n",
       "      <th>1</th>\n",
       "      <td>11.0</td>\n",
       "      <td>0.00</td>\n",
       "      <td>18.0</td>\n",
       "      <td>0.00</td>\n",
       "    </tr>\n",
       "    <tr>\n",
       "      <th>2</th>\n",
       "      <td>71.0</td>\n",
       "      <td>0.00</td>\n",
       "      <td>123.0</td>\n",
       "      <td>0.00</td>\n",
       "    </tr>\n",
       "    <tr>\n",
       "      <th>3</th>\n",
       "      <td>118.0</td>\n",
       "      <td>0.00</td>\n",
       "      <td>3.0</td>\n",
       "      <td>0.00</td>\n",
       "    </tr>\n",
       "    <tr>\n",
       "      <th>4</th>\n",
       "      <td>30.0</td>\n",
       "      <td>722.65</td>\n",
       "      <td>56.0</td>\n",
       "      <td>555.61</td>\n",
       "    </tr>\n",
       "  </tbody>\n",
       "</table>\n",
       "</div>"
      ],
      "text/plain": [
       "   rank_team1  total_points_team1  rank_team2  total_points_team2\n",
       "0        38.0                0.00        30.0                0.00\n",
       "1        11.0                0.00        18.0                0.00\n",
       "2        71.0                0.00       123.0                0.00\n",
       "3       118.0                0.00         3.0                0.00\n",
       "4        30.0              722.65        56.0              555.61"
      ]
     },
     "execution_count": 18,
     "metadata": {},
     "output_type": "execute_result"
    }
   ],
   "source": [
    "X.head()"
   ]
  },
  {
   "cell_type": "code",
   "execution_count": 43,
   "metadata": {
    "scrolled": true
   },
   "outputs": [
    {
     "name": "stderr",
     "output_type": "stream",
     "text": [
      "C:\\Users\\Lenovo\\Anaconda3\\lib\\site-packages\\sklearn\\linear_model\\logistic.py:433: FutureWarning: Default solver will be changed to 'lbfgs' in 0.22. Specify a solver to silence this warning.\n",
      "  FutureWarning)\n",
      "C:\\Users\\Lenovo\\Anaconda3\\lib\\site-packages\\sklearn\\linear_model\\logistic.py:433: FutureWarning: Default solver will be changed to 'lbfgs' in 0.22. Specify a solver to silence this warning.\n",
      "  FutureWarning)\n"
     ]
    },
    {
     "data": {
      "text/plain": [
       "LogisticRegression(C=1.0, class_weight=None, dual=False, fit_intercept=True,\n",
       "          intercept_scaling=1, max_iter=100, multi_class='warn',\n",
       "          n_jobs=None, penalty='l2', random_state=1, solver='warn',\n",
       "          tol=0.0001, verbose=0, warm_start=False)"
      ]
     },
     "execution_count": 43,
     "metadata": {},
     "output_type": "execute_result"
    }
   ],
   "source": [
    "from sklearn.linear_model import LogisticRegression\n",
    "from sklearn.model_selection import train_test_split\n",
    "train_X, val_X, train_y, val_y = train_test_split(X, y, random_state=1)\n",
    "train_model = LogisticRegression(random_state = 1)\n",
    "test_model = LogisticRegression(random_state = 1)\n",
    "train_model.fit(train_X,train_y)\n",
    "test_model.fit(train_X,train_y)"
   ]
  },
  {
   "cell_type": "code",
   "execution_count": 53,
   "metadata": {
    "scrolled": true
   },
   "outputs": [
    {
     "name": "stdout",
     "output_type": "stream",
     "text": [
      "       rank_team1  total_points_team1  rank_team2  total_points_team2\n",
      "0            38.0                0.00        30.0                0.00\n",
      "1            11.0                0.00        18.0                0.00\n",
      "2            71.0                0.00       123.0                0.00\n",
      "3           118.0                0.00         3.0                0.00\n",
      "4            30.0              722.65        56.0              555.61\n",
      "5            36.0              713.41        93.0              368.53\n",
      "6            36.0                0.00        12.0                0.00\n",
      "7            67.0                0.00        87.0                0.00\n",
      "8            37.0              712.13        47.0              634.11\n",
      "9           115.0              290.95        58.0              525.09\n",
      "10            6.0                0.00        71.0                0.00\n",
      "11          112.0                0.00       133.0                0.00\n",
      "12          159.0                0.00       140.0                0.00\n",
      "13           20.0              883.18       127.0              241.12\n",
      "14          155.0                0.00       106.0                0.00\n",
      "15           20.0                0.00        30.0                0.00\n",
      "16            4.0                0.00        50.0                0.00\n",
      "17          105.0                0.00       185.0                0.00\n",
      "18           15.0                0.00        50.0                0.00\n",
      "19          152.0                0.00       166.0                0.00\n",
      "20           52.0              593.10        33.0              784.47\n",
      "21          117.0              280.76       127.0              229.38\n",
      "22          103.0                0.00        63.0                0.00\n",
      "23          105.0                0.00       202.0                0.00\n",
      "24          167.0                0.00        59.0                0.00\n",
      "25           60.0              488.39       106.0              295.38\n",
      "26           47.0                0.00        25.0                0.00\n",
      "27           10.0                0.00        59.0                0.00\n",
      "28           95.0                0.00       164.0                0.00\n",
      "29          142.0                0.00       110.0                0.00\n",
      "...           ...                 ...         ...                 ...\n",
      "11057       120.0                0.00        73.0                0.00\n",
      "11058        81.0                0.00        71.0                0.00\n",
      "11059        32.0                0.00        22.0                0.00\n",
      "11060        24.0                0.00       108.0                0.00\n",
      "11061        50.0                0.00       134.0                0.00\n",
      "11062        47.0                0.00        52.0                0.00\n",
      "11063        56.0                0.00        71.0                0.00\n",
      "11064       131.0                0.00        89.0                0.00\n",
      "11065        46.0                0.00        45.0                0.00\n",
      "11066       153.0              124.46       140.0              160.98\n",
      "11067       139.0                0.00        56.0                0.00\n",
      "11068        75.0                0.00       115.0                0.00\n",
      "11069       156.0                0.00       148.0                0.00\n",
      "11070        73.0                0.00        30.0                0.00\n",
      "11071        67.0                0.00        40.0                0.00\n",
      "11072        50.0                0.00       132.0                0.00\n",
      "11073        76.0              468.85        42.0              650.87\n",
      "11074        71.0                0.00        87.0                0.00\n",
      "11075        51.0                0.00         9.0                0.00\n",
      "11076        23.0                0.00        47.0                0.00\n",
      "11077       195.0                0.00        82.0                0.00\n",
      "11078       135.0                0.00        46.0                0.00\n",
      "11079        48.0                0.00        63.0                0.00\n",
      "11080        43.0                0.00         8.0                0.00\n",
      "11081        42.0                0.00         8.0                0.00\n",
      "11082        61.0                0.00         2.0                0.00\n",
      "11083        65.0                0.00       109.0                0.00\n",
      "11084       122.0                0.00        48.0                0.00\n",
      "11085       102.0              338.06       167.0              128.20\n",
      "11086        18.0              965.37         9.0             1199.88\n",
      "\n",
      "[11087 rows x 4 columns]\n",
      "Prediction_match.train_data\n",
      "[0 0 1 ... 0 1 0]\n",
      "Prediction_match.test_data\n",
      "[0 0 0 ... 1 1 0]\n"
     ]
    }
   ],
   "source": [
    "import numpy as np\n",
    "print(X) \n",
    "print(\"Prediction_match.train_data\")\n",
    "x = np.round(train_model.predict(X))\n",
    "print(x)\n",
    "print(\"Prediction_match.test_data\")\n",
    "a = np.round(test_model.predict(A))\n",
    "print(a)"
   ]
  },
  {
   "cell_type": "code",
   "execution_count": null,
   "metadata": {},
   "outputs": [],
   "source": []
  }
 ],
 "metadata": {
  "kernelspec": {
   "display_name": "Python 3",
   "language": "python",
   "name": "python3"
  },
  "language_info": {
   "codemirror_mode": {
    "name": "ipython",
    "version": 3
   },
   "file_extension": ".py",
   "mimetype": "text/x-python",
   "name": "python",
   "nbconvert_exporter": "python",
   "pygments_lexer": "ipython3",
   "version": "3.7.1"
  }
 },
 "nbformat": 4,
 "nbformat_minor": 2
}
